{
 "cells": [
  {
   "attachments": {},
   "cell_type": "markdown",
   "id": "81fd4b58",
   "metadata": {},
   "source": [
    "# La Liga Jupyter Notebook \n",
    "\n",
    "This purpose of this notebook is to use data from the Spanish La Liga to experiment with.\n",
    "\n",
    "In the first cell below we add in the necessart Python Libraries and then load the data set into a dataframe. \n",
    "\n",
    "\n",
    "First steps we wll pull out all Real Madrid data and Compare different attributes to other teams in he league."
   ]
  },
  {
   "cell_type": "code",
   "execution_count": 1,
   "id": "9313bc3d",
   "metadata": {},
   "outputs": [
    {
     "ename": "ModuleNotFoundError",
     "evalue": "No module named 'scipy'",
     "output_type": "error",
     "traceback": [
      "\u001b[0;31m---------------------------------------------------------------------------\u001b[0m",
      "\u001b[0;31mModuleNotFoundError\u001b[0m                       Traceback (most recent call last)",
      "\u001b[1;32m/Users/chrismcgoran/Desktop/Development/python/la_liga/src/la_liga_notebook.ipynb Cell 2\u001b[0m in \u001b[0;36m3\n\u001b[1;32m      <a href='vscode-notebook-cell:/Users/chrismcgoran/Desktop/Development/python/la_liga/src/la_liga_notebook.ipynb#W1sZmlsZQ%3D%3D?line=0'>1</a>\u001b[0m \u001b[39mimport\u001b[39;00m \u001b[39mpandas\u001b[39;00m \u001b[39mas\u001b[39;00m \u001b[39mpd\u001b[39;00m\n\u001b[1;32m      <a href='vscode-notebook-cell:/Users/chrismcgoran/Desktop/Development/python/la_liga/src/la_liga_notebook.ipynb#W1sZmlsZQ%3D%3D?line=1'>2</a>\u001b[0m \u001b[39mimport\u001b[39;00m \u001b[39mnumpy\u001b[39;00m \u001b[39mas\u001b[39;00m \u001b[39mnp\u001b[39;00m\n\u001b[0;32m----> <a href='vscode-notebook-cell:/Users/chrismcgoran/Desktop/Development/python/la_liga/src/la_liga_notebook.ipynb#W1sZmlsZQ%3D%3D?line=2'>3</a>\u001b[0m \u001b[39mfrom\u001b[39;00m \u001b[39mscipy\u001b[39;00m \u001b[39mimport\u001b[39;00m stats\n\u001b[1;32m      <a href='vscode-notebook-cell:/Users/chrismcgoran/Desktop/Development/python/la_liga/src/la_liga_notebook.ipynb#W1sZmlsZQ%3D%3D?line=3'>4</a>\u001b[0m \u001b[39mimport\u001b[39;00m \u001b[39mmatplotlib\u001b[39;00m\u001b[39m.\u001b[39;00m\u001b[39mpyplot\u001b[39;00m \u001b[39mas\u001b[39;00m \u001b[39mplt\u001b[39;00m\n\u001b[1;32m      <a href='vscode-notebook-cell:/Users/chrismcgoran/Desktop/Development/python/la_liga/src/la_liga_notebook.ipynb#W1sZmlsZQ%3D%3D?line=4'>5</a>\u001b[0m \u001b[39mimport\u001b[39;00m \u001b[39mseaborn\u001b[39;00m \u001b[39mas\u001b[39;00m \u001b[39msns\u001b[39;00m\n",
      "\u001b[0;31mModuleNotFoundError\u001b[0m: No module named 'scipy'"
     ]
    }
   ],
   "source": [
    "import pandas as pd\n",
    "import numpy as np\n",
    "from scipy import stats\n",
    "import matplotlib.pyplot as plt\n",
    "import seaborn as sns\n",
    "la_liga_data = pd.read_csv('../data/LaLiga_Matches_1995-2021.csv')\n",
    "la_liga_data.head()"
   ]
  },
  {
   "attachments": {},
   "cell_type": "markdown",
   "id": "04a7ad1f",
   "metadata": {},
   "source": [
    "Once we have the data loaded we try to understand the data we are working with. \n",
    "\n",
    "There are over 10K rows loaded with 10 columns in the dataframe. "
   ]
  },
  {
   "cell_type": "code",
   "execution_count": null,
   "id": "c024fd43",
   "metadata": {},
   "outputs": [
    {
     "data": {
      "text/plain": [
       "(10044, 10)"
      ]
     },
     "execution_count": 2,
     "metadata": {},
     "output_type": "execute_result"
    }
   ],
   "source": [
    "la_liga_data.shape"
   ]
  },
  {
   "cell_type": "code",
   "execution_count": null,
   "id": "37e32b44",
   "metadata": {},
   "outputs": [
    {
     "name": "stdout",
     "output_type": "stream",
     "text": [
      "<class 'pandas.core.frame.DataFrame'>\n",
      "RangeIndex: 10044 entries, 0 to 10043\n",
      "Data columns (total 10 columns):\n",
      " #   Column    Non-Null Count  Dtype  \n",
      "---  ------    --------------  -----  \n",
      " 0   Season    10044 non-null  object \n",
      " 1   Date      10044 non-null  object \n",
      " 2   HomeTeam  10044 non-null  object \n",
      " 3   AwayTeam  10044 non-null  object \n",
      " 4   FTHG      10044 non-null  int64  \n",
      " 5   FTAG      10044 non-null  int64  \n",
      " 6   FTR       10044 non-null  object \n",
      " 7   HTHG      10042 non-null  float64\n",
      " 8   HTAG      10042 non-null  float64\n",
      " 9   HTR       10042 non-null  object \n",
      "dtypes: float64(2), int64(2), object(6)\n",
      "memory usage: 784.8+ KB\n"
     ]
    },
    {
     "data": {
      "text/plain": [
       "<bound method NDFrame.describe of         Season        Date     HomeTeam    AwayTeam  FTHG  FTAG FTR  HTHG  \\\n",
       "0      1995-96    2/9/1995    La Coruna    Valencia     3     0   H   2.0   \n",
       "1      1995-96    2/9/1995     Sp Gijon    Albacete     3     0   H   3.0   \n",
       "2      1995-96    3/9/1995   Ath Bilbao   Santander     4     0   H   2.0   \n",
       "3      1995-96    3/9/1995   Ath Madrid    Sociedad     4     1   H   1.0   \n",
       "4      1995-96    3/9/1995        Celta  Compostela     0     1   A   0.0   \n",
       "...        ...         ...          ...         ...   ...   ...  ..   ...   \n",
       "10039  2020-21  22/05/2021      Osasuna    Sociedad     0     1   A   0.0   \n",
       "10040  2020-21  22/05/2021  Real Madrid  Villarreal     2     1   H   0.0   \n",
       "10041  2020-21  22/05/2021   Valladolid  Ath Madrid     1     2   A   1.0   \n",
       "10042  2020-21  23/05/2021      Granada      Getafe     0     0   D   0.0   \n",
       "10043  2020-21  23/05/2021      Sevilla      Alaves     1     0   H   0.0   \n",
       "\n",
       "       HTAG HTR  \n",
       "0       0.0   H  \n",
       "1       0.0   H  \n",
       "2       0.0   H  \n",
       "3       1.0   D  \n",
       "4       0.0   D  \n",
       "...     ...  ..  \n",
       "10039   0.0   D  \n",
       "10040   1.0   A  \n",
       "10041   0.0   H  \n",
       "10042   0.0   D  \n",
       "10043   0.0   D  \n",
       "\n",
       "[10044 rows x 10 columns]>"
      ]
     },
     "execution_count": 3,
     "metadata": {},
     "output_type": "execute_result"
    }
   ],
   "source": [
    "la_liga_data.info()\n",
    "la_liga_data.info\n",
    "la_liga_data.describe()\n",
    "la_liga_data.describe"
   ]
  },
  {
   "cell_type": "code",
   "execution_count": null,
   "id": "1f3e85d5",
   "metadata": {},
   "outputs": [],
   "source": [
    "def getOneTeamPerformance(teamName, laligadataframe):\n",
    "    #df = pd.DataFrame()\n",
    "    \"\"\"This method will take the data set and the team that was passed and create the following\n",
    "    1. Points obtained from the match\n",
    "    2. Goals for and goals against\n",
    "    \n",
    "    This can then be used to construct final league tables or legue tables at certain points in time.\"\"\"\n",
    "    \n",
    "   # laligadataframe[(laligadataframe['HomeTeam']==teamName)|(laligadataframe['AwayTeam']==teamName)]\n",
    "    laligadataframe=laligadataframe[(laligadataframe['HomeTeam']==teamName)|(laligadataframe['AwayTeam']==teamName)]\n",
    "   \n",
    "    laligadataframe.loc[(laligadataframe['HomeTeam']==teamName)&(laligadataframe['FTHG']>laligadataframe['FTAG']),'Points']=3 \n",
    "    laligadataframe.loc[(laligadataframe['HomeTeam']==teamName)&(laligadataframe['FTHG']==laligadataframe['FTAG']),'Points']=1 \n",
    "    laligadataframe.loc[(laligadataframe['HomeTeam']==teamName)&(laligadataframe['FTHG']<laligadataframe['FTAG']),'Points']=0\n",
    "    laligadataframe.loc[(laligadataframe['AwayTeam']==teamName)&(laligadataframe['FTHG']<laligadataframe['FTAG']),'Points']=3\n",
    "    laligadataframe.loc[(laligadataframe['AwayTeam']==teamName)&(laligadataframe['FTHG']==laligadataframe['FTAG']),'Points']=1 \n",
    "    laligadataframe.loc[(laligadataframe['AwayTeam']==teamName)&(laligadataframe['FTHG']>laligadataframe['FTAG']),'Points']=0  \n",
    "\n",
    "    laligadataframe.loc[(laligadataframe['AwayTeam']==teamName),'Goals For']=laligadataframe['FTAG'] \n",
    "    laligadataframe.loc[(laligadataframe['HomeTeam']==teamName),'Goals For']=laligadataframe['FTHG']\n",
    "\n",
    "    laligadataframe.loc[(laligadataframe['AwayTeam']==teamName),'Goals Against']=laligadataframe['FTHG'] \n",
    "    laligadataframe.loc[(laligadataframe['HomeTeam']==teamName),'Goals Against']=laligadataframe['FTAG']\n",
    "    #laligadataframe.loc[(laligadataframe['HomeTeam']==teamName)&(laligadataframe['FTHG']==laligadataframe['FTAG']),'Points']=1  \n",
    "   \n",
    "   #filterinfDataframe = dfObj[(dfObj['Sale'] > 30) & (dfObj['Sale'] < 33) ]\n",
    "   # laligadataframe[(laligadataframe['HomeTeam']==teamName)|(laligadataframe['AwayTeam']==teamName)]\n",
    "    #laligadataframe = l\n",
    "\n",
    "    #laligadataframe['Points'] = [3 if (laligadataframe['HomeTeam']==teamName) & (laligadataframe['FTHG']>laligadataframe['FTAG']) else 0]\n",
    "\n",
    "    #laligadataframe[(laligadataframe['HomeTeam']==teamName)&(laligadataframe['FTHG'])>(laligadataframe['FTAG']),'points']=3\n",
    "    #laligadataframe.loc[laligadataframe['HomeTeam']]==teamName and laligadataframe.loc[laligadataframe['FTHG']>laligadataframe['FTAG'],'points']=3\n",
    "    #laligadataframe.loc[laligadataframe['HomeTeam']==teamName and laligadataframe['FTHG']==laligadataframe['FTAG'],'points']=1\n",
    "    #laligadataframe.loc[laligadataframe['HomeTeam']==teamName and laligadataframe['FTHG']<laligadataframe['FTAG'],'points']=0\n",
    "    #laligadataframe.loc[laligadataframe['AwayTeam']==teamName and laligadataframe['FTHG']<laligadataframe['FTAG'],'points']=3\n",
    "    #laligadataframe.loc[laligadataframe['AwayTeam']==teamName and laligadataframe['FTHG']==laligadataframe['FTAG'],'points']=1\n",
    "    #laligadataframe.loc[laligadataframe['AwayTeam']==teamName and laligadataframe['FTHG']>laligadataframe['FTAG'],'points']=0\n",
    "       \n",
    "    return laligadataframe\n",
    "    \n",
    "     \n",
    "    #df_employees[(df_employees['salary'] > 45000) & (df_employees['type_contract'] == 'permanent')]\n"
   ]
  },
  {
   "cell_type": "code",
   "execution_count": null,
   "id": "4c1c64dc",
   "metadata": {},
   "outputs": [
    {
     "name": "stderr",
     "output_type": "stream",
     "text": [
      "/var/folders/vl/m3d7dnp16t9grcylf8s6n4xc0000gn/T/ipykernel_15822/1558441874.py:12: SettingWithCopyWarning: \n",
      "A value is trying to be set on a copy of a slice from a DataFrame.\n",
      "Try using .loc[row_indexer,col_indexer] = value instead\n",
      "\n",
      "See the caveats in the documentation: https://pandas.pydata.org/pandas-docs/stable/user_guide/indexing.html#returning-a-view-versus-a-copy\n",
      "  laligadataframe.loc[(laligadataframe['HomeTeam']==teamName)&(laligadataframe['FTHG']>laligadataframe['FTAG']),'Points']=3\n",
      "/var/folders/vl/m3d7dnp16t9grcylf8s6n4xc0000gn/T/ipykernel_15822/1558441874.py:19: SettingWithCopyWarning: \n",
      "A value is trying to be set on a copy of a slice from a DataFrame.\n",
      "Try using .loc[row_indexer,col_indexer] = value instead\n",
      "\n",
      "See the caveats in the documentation: https://pandas.pydata.org/pandas-docs/stable/user_guide/indexing.html#returning-a-view-versus-a-copy\n",
      "  laligadataframe.loc[(laligadataframe['AwayTeam']==teamName),'Goals For']=laligadataframe['FTAG']\n",
      "/var/folders/vl/m3d7dnp16t9grcylf8s6n4xc0000gn/T/ipykernel_15822/1558441874.py:22: SettingWithCopyWarning: \n",
      "A value is trying to be set on a copy of a slice from a DataFrame.\n",
      "Try using .loc[row_indexer,col_indexer] = value instead\n",
      "\n",
      "See the caveats in the documentation: https://pandas.pydata.org/pandas-docs/stable/user_guide/indexing.html#returning-a-view-versus-a-copy\n",
      "  laligadataframe.loc[(laligadataframe['AwayTeam']==teamName),'Goals Against']=laligadataframe['FTHG']\n"
     ]
    }
   ],
   "source": [
    "real_madrid = getOneTeamPerformance('Real Madrid', la_liga_data)"
   ]
  },
  {
   "cell_type": "code",
   "execution_count": null,
   "id": "5ae486bc",
   "metadata": {},
   "outputs": [],
   "source": [
    "thisweek=real_madrid[(real_madrid['AwayTeam']=='Celta')]"
   ]
  },
  {
   "cell_type": "code",
   "execution_count": null,
   "id": "33908daf",
   "metadata": {},
   "outputs": [
    {
     "name": "stderr",
     "output_type": "stream",
     "text": [
      "/var/folders/vl/m3d7dnp16t9grcylf8s6n4xc0000gn/T/ipykernel_15822/1643907233.py:1: FutureWarning: Indexing with multiple keys (implicitly converted to a tuple of keys) will be deprecated, use a list instead.\n",
      "  real_madrid.groupby('Season',as_index=False)['Goals For','Goals Against','Points'].sum()\n"
     ]
    },
    {
     "data": {
      "text/html": [
       "<div>\n",
       "<style scoped>\n",
       "    .dataframe tbody tr th:only-of-type {\n",
       "        vertical-align: middle;\n",
       "    }\n",
       "\n",
       "    .dataframe tbody tr th {\n",
       "        vertical-align: top;\n",
       "    }\n",
       "\n",
       "    .dataframe thead th {\n",
       "        text-align: right;\n",
       "    }\n",
       "</style>\n",
       "<table border=\"1\" class=\"dataframe\">\n",
       "  <thead>\n",
       "    <tr style=\"text-align: right;\">\n",
       "      <th></th>\n",
       "      <th>Season</th>\n",
       "      <th>Goals For</th>\n",
       "      <th>Goals Against</th>\n",
       "      <th>Points</th>\n",
       "    </tr>\n",
       "  </thead>\n",
       "  <tbody>\n",
       "    <tr>\n",
       "      <th>0</th>\n",
       "      <td>1995-96</td>\n",
       "      <td>75.0</td>\n",
       "      <td>51.0</td>\n",
       "      <td>70.0</td>\n",
       "    </tr>\n",
       "    <tr>\n",
       "      <th>1</th>\n",
       "      <td>1996-97</td>\n",
       "      <td>85.0</td>\n",
       "      <td>36.0</td>\n",
       "      <td>92.0</td>\n",
       "    </tr>\n",
       "    <tr>\n",
       "      <th>2</th>\n",
       "      <td>1997-98</td>\n",
       "      <td>63.0</td>\n",
       "      <td>45.0</td>\n",
       "      <td>63.0</td>\n",
       "    </tr>\n",
       "    <tr>\n",
       "      <th>3</th>\n",
       "      <td>1998-99</td>\n",
       "      <td>77.0</td>\n",
       "      <td>62.0</td>\n",
       "      <td>68.0</td>\n",
       "    </tr>\n",
       "    <tr>\n",
       "      <th>4</th>\n",
       "      <td>1999-2000</td>\n",
       "      <td>58.0</td>\n",
       "      <td>48.0</td>\n",
       "      <td>62.0</td>\n",
       "    </tr>\n",
       "    <tr>\n",
       "      <th>5</th>\n",
       "      <td>2000-01</td>\n",
       "      <td>81.0</td>\n",
       "      <td>40.0</td>\n",
       "      <td>80.0</td>\n",
       "    </tr>\n",
       "    <tr>\n",
       "      <th>6</th>\n",
       "      <td>2001-02</td>\n",
       "      <td>69.0</td>\n",
       "      <td>44.0</td>\n",
       "      <td>66.0</td>\n",
       "    </tr>\n",
       "    <tr>\n",
       "      <th>7</th>\n",
       "      <td>2002-03</td>\n",
       "      <td>86.0</td>\n",
       "      <td>42.0</td>\n",
       "      <td>78.0</td>\n",
       "    </tr>\n",
       "    <tr>\n",
       "      <th>8</th>\n",
       "      <td>2003-04</td>\n",
       "      <td>72.0</td>\n",
       "      <td>54.0</td>\n",
       "      <td>70.0</td>\n",
       "    </tr>\n",
       "    <tr>\n",
       "      <th>9</th>\n",
       "      <td>2004-05</td>\n",
       "      <td>71.0</td>\n",
       "      <td>32.0</td>\n",
       "      <td>80.0</td>\n",
       "    </tr>\n",
       "    <tr>\n",
       "      <th>10</th>\n",
       "      <td>2005-06</td>\n",
       "      <td>70.0</td>\n",
       "      <td>40.0</td>\n",
       "      <td>70.0</td>\n",
       "    </tr>\n",
       "    <tr>\n",
       "      <th>11</th>\n",
       "      <td>2006-07</td>\n",
       "      <td>66.0</td>\n",
       "      <td>40.0</td>\n",
       "      <td>76.0</td>\n",
       "    </tr>\n",
       "    <tr>\n",
       "      <th>12</th>\n",
       "      <td>2007-08</td>\n",
       "      <td>84.0</td>\n",
       "      <td>36.0</td>\n",
       "      <td>85.0</td>\n",
       "    </tr>\n",
       "    <tr>\n",
       "      <th>13</th>\n",
       "      <td>2008-09</td>\n",
       "      <td>83.0</td>\n",
       "      <td>52.0</td>\n",
       "      <td>78.0</td>\n",
       "    </tr>\n",
       "    <tr>\n",
       "      <th>14</th>\n",
       "      <td>2009-10</td>\n",
       "      <td>102.0</td>\n",
       "      <td>35.0</td>\n",
       "      <td>96.0</td>\n",
       "    </tr>\n",
       "    <tr>\n",
       "      <th>15</th>\n",
       "      <td>2010-11</td>\n",
       "      <td>102.0</td>\n",
       "      <td>33.0</td>\n",
       "      <td>92.0</td>\n",
       "    </tr>\n",
       "    <tr>\n",
       "      <th>16</th>\n",
       "      <td>2011-12</td>\n",
       "      <td>121.0</td>\n",
       "      <td>32.0</td>\n",
       "      <td>100.0</td>\n",
       "    </tr>\n",
       "    <tr>\n",
       "      <th>17</th>\n",
       "      <td>2012-13</td>\n",
       "      <td>103.0</td>\n",
       "      <td>42.0</td>\n",
       "      <td>85.0</td>\n",
       "    </tr>\n",
       "    <tr>\n",
       "      <th>18</th>\n",
       "      <td>2013-14</td>\n",
       "      <td>104.0</td>\n",
       "      <td>38.0</td>\n",
       "      <td>87.0</td>\n",
       "    </tr>\n",
       "    <tr>\n",
       "      <th>19</th>\n",
       "      <td>2014-15</td>\n",
       "      <td>118.0</td>\n",
       "      <td>38.0</td>\n",
       "      <td>92.0</td>\n",
       "    </tr>\n",
       "    <tr>\n",
       "      <th>20</th>\n",
       "      <td>2015-16</td>\n",
       "      <td>110.0</td>\n",
       "      <td>34.0</td>\n",
       "      <td>90.0</td>\n",
       "    </tr>\n",
       "    <tr>\n",
       "      <th>21</th>\n",
       "      <td>2016-17</td>\n",
       "      <td>106.0</td>\n",
       "      <td>41.0</td>\n",
       "      <td>93.0</td>\n",
       "    </tr>\n",
       "    <tr>\n",
       "      <th>22</th>\n",
       "      <td>2017-18</td>\n",
       "      <td>94.0</td>\n",
       "      <td>44.0</td>\n",
       "      <td>76.0</td>\n",
       "    </tr>\n",
       "    <tr>\n",
       "      <th>23</th>\n",
       "      <td>2018-19</td>\n",
       "      <td>63.0</td>\n",
       "      <td>46.0</td>\n",
       "      <td>68.0</td>\n",
       "    </tr>\n",
       "    <tr>\n",
       "      <th>24</th>\n",
       "      <td>2019-20</td>\n",
       "      <td>70.0</td>\n",
       "      <td>25.0</td>\n",
       "      <td>87.0</td>\n",
       "    </tr>\n",
       "    <tr>\n",
       "      <th>25</th>\n",
       "      <td>2020-21</td>\n",
       "      <td>67.0</td>\n",
       "      <td>28.0</td>\n",
       "      <td>84.0</td>\n",
       "    </tr>\n",
       "  </tbody>\n",
       "</table>\n",
       "</div>"
      ],
      "text/plain": [
       "       Season  Goals For  Goals Against  Points\n",
       "0     1995-96       75.0           51.0    70.0\n",
       "1     1996-97       85.0           36.0    92.0\n",
       "2     1997-98       63.0           45.0    63.0\n",
       "3     1998-99       77.0           62.0    68.0\n",
       "4   1999-2000       58.0           48.0    62.0\n",
       "5     2000-01       81.0           40.0    80.0\n",
       "6     2001-02       69.0           44.0    66.0\n",
       "7     2002-03       86.0           42.0    78.0\n",
       "8     2003-04       72.0           54.0    70.0\n",
       "9     2004-05       71.0           32.0    80.0\n",
       "10    2005-06       70.0           40.0    70.0\n",
       "11    2006-07       66.0           40.0    76.0\n",
       "12    2007-08       84.0           36.0    85.0\n",
       "13    2008-09       83.0           52.0    78.0\n",
       "14    2009-10      102.0           35.0    96.0\n",
       "15    2010-11      102.0           33.0    92.0\n",
       "16    2011-12      121.0           32.0   100.0\n",
       "17    2012-13      103.0           42.0    85.0\n",
       "18    2013-14      104.0           38.0    87.0\n",
       "19    2014-15      118.0           38.0    92.0\n",
       "20    2015-16      110.0           34.0    90.0\n",
       "21    2016-17      106.0           41.0    93.0\n",
       "22    2017-18       94.0           44.0    76.0\n",
       "23    2018-19       63.0           46.0    68.0\n",
       "24    2019-20       70.0           25.0    87.0\n",
       "25    2020-21       67.0           28.0    84.0"
      ]
     },
     "execution_count": 7,
     "metadata": {},
     "output_type": "execute_result"
    }
   ],
   "source": [
    "real_madrid.groupby('Season',as_index=False)['Goals For','Goals Against','Points'].sum()"
   ]
  },
  {
   "attachments": {},
   "cell_type": "markdown",
   "id": "22163316",
   "metadata": {},
   "source": [
    "# Statistics and Machine Learning\n",
    "\n",
    "The next section of code will go through some examples of statistics of statistics\n",
    "\n",
    "I will be using the W3 Schools tutorial on Machine Learning and appying the topcis from it here. \n",
    "\n",
    "https://www.w3schools.com/python/python_ml_mean_median_mode.asp"
   ]
  },
  {
   "attachments": {},
   "cell_type": "markdown",
   "id": "04a287fe",
   "metadata": {},
   "source": [
    "## Mean, Median and Mode\n",
    "\n",
    "The first step is to look at the Mean Median and Mode. \n",
    "We will be using the numpy library for these exercieses"
   ]
  },
  {
   "cell_type": "code",
   "execution_count": null,
   "id": "0d483a74",
   "metadata": {},
   "outputs": [
    {
     "name": "stdout",
     "output_type": "stream",
     "text": [
      "the mean number of goals scored by Real Madrid between 1995 and 2021 is \n",
      "2.208835341365462\n"
     ]
    }
   ],
   "source": [
    "goals_scored = real_madrid['Goals For']\n",
    "\n",
    "\n",
    "print(\"the mean number of goals scored by Real Madrid between 1995 and 2021 is \")\n",
    "print (goals_scored.mean())"
   ]
  },
  {
   "cell_type": "code",
   "execution_count": null,
   "id": "921630fb",
   "metadata": {},
   "outputs": [
    {
     "data": {
      "text/plain": [
       "0    2.0\n",
       "Name: Goals For, dtype: float64"
      ]
     },
     "execution_count": 14,
     "metadata": {},
     "output_type": "execute_result"
    }
   ],
   "source": [
    "goals_scored.mode()"
   ]
  },
  {
   "cell_type": "code",
   "execution_count": null,
   "id": "e7b828c0",
   "metadata": {},
   "outputs": [
    {
     "name": "stdout",
     "output_type": "stream",
     "text": [
      "2.0\n"
     ]
    }
   ],
   "source": [
    "x = np.median(goals_scored)\n",
    "\n",
    "print(x)"
   ]
  },
  {
   "cell_type": "code",
   "execution_count": null,
   "id": "68c6d759",
   "metadata": {},
   "outputs": [
    {
     "data": {
      "text/plain": [
       "2.0"
      ]
     },
     "execution_count": 15,
     "metadata": {},
     "output_type": "execute_result"
    }
   ],
   "source": [
    "goals_scored.median()"
   ]
  }
 ],
 "metadata": {
  "kernelspec": {
   "display_name": "Python 3 (ipykernel)",
   "language": "python",
   "name": "python3"
  },
  "language_info": {
   "codemirror_mode": {
    "name": "ipython",
    "version": 3
   },
   "file_extension": ".py",
   "mimetype": "text/x-python",
   "name": "python",
   "nbconvert_exporter": "python",
   "pygments_lexer": "ipython3",
   "version": "3.10.7"
  }
 },
 "nbformat": 4,
 "nbformat_minor": 5
}
