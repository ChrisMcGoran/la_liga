{
 "cells": [
  {
   "cell_type": "markdown",
   "id": "81fd4b58",
   "metadata": {},
   "source": [
    "# La Liga Jupyter Notebook \n",
    "\n",
    "This purpose of this notebook is to use data from the Spanish La Liga to experiment with.\n",
    "\n",
    "In the first cell below we add in the necessart Python Libraries and then load the data set into a dataframe. \n"
   ]
  },
  {
   "cell_type": "code",
   "execution_count": 1,
   "id": "9313bc3d",
   "metadata": {},
   "outputs": [
    {
     "data": {
      "text/html": [
       "<div>\n",
       "<style scoped>\n",
       "    .dataframe tbody tr th:only-of-type {\n",
       "        vertical-align: middle;\n",
       "    }\n",
       "\n",
       "    .dataframe tbody tr th {\n",
       "        vertical-align: top;\n",
       "    }\n",
       "\n",
       "    .dataframe thead th {\n",
       "        text-align: right;\n",
       "    }\n",
       "</style>\n",
       "<table border=\"1\" class=\"dataframe\">\n",
       "  <thead>\n",
       "    <tr style=\"text-align: right;\">\n",
       "      <th></th>\n",
       "      <th>Season</th>\n",
       "      <th>Date</th>\n",
       "      <th>HomeTeam</th>\n",
       "      <th>AwayTeam</th>\n",
       "      <th>FTHG</th>\n",
       "      <th>FTAG</th>\n",
       "      <th>FTR</th>\n",
       "      <th>HTHG</th>\n",
       "      <th>HTAG</th>\n",
       "      <th>HTR</th>\n",
       "    </tr>\n",
       "  </thead>\n",
       "  <tbody>\n",
       "    <tr>\n",
       "      <th>0</th>\n",
       "      <td>1995-96</td>\n",
       "      <td>2/9/1995</td>\n",
       "      <td>La Coruna</td>\n",
       "      <td>Valencia</td>\n",
       "      <td>3</td>\n",
       "      <td>0</td>\n",
       "      <td>H</td>\n",
       "      <td>2.0</td>\n",
       "      <td>0.0</td>\n",
       "      <td>H</td>\n",
       "    </tr>\n",
       "    <tr>\n",
       "      <th>1</th>\n",
       "      <td>1995-96</td>\n",
       "      <td>2/9/1995</td>\n",
       "      <td>Sp Gijon</td>\n",
       "      <td>Albacete</td>\n",
       "      <td>3</td>\n",
       "      <td>0</td>\n",
       "      <td>H</td>\n",
       "      <td>3.0</td>\n",
       "      <td>0.0</td>\n",
       "      <td>H</td>\n",
       "    </tr>\n",
       "    <tr>\n",
       "      <th>2</th>\n",
       "      <td>1995-96</td>\n",
       "      <td>3/9/1995</td>\n",
       "      <td>Ath Bilbao</td>\n",
       "      <td>Santander</td>\n",
       "      <td>4</td>\n",
       "      <td>0</td>\n",
       "      <td>H</td>\n",
       "      <td>2.0</td>\n",
       "      <td>0.0</td>\n",
       "      <td>H</td>\n",
       "    </tr>\n",
       "    <tr>\n",
       "      <th>3</th>\n",
       "      <td>1995-96</td>\n",
       "      <td>3/9/1995</td>\n",
       "      <td>Ath Madrid</td>\n",
       "      <td>Sociedad</td>\n",
       "      <td>4</td>\n",
       "      <td>1</td>\n",
       "      <td>H</td>\n",
       "      <td>1.0</td>\n",
       "      <td>1.0</td>\n",
       "      <td>D</td>\n",
       "    </tr>\n",
       "    <tr>\n",
       "      <th>4</th>\n",
       "      <td>1995-96</td>\n",
       "      <td>3/9/1995</td>\n",
       "      <td>Celta</td>\n",
       "      <td>Compostela</td>\n",
       "      <td>0</td>\n",
       "      <td>1</td>\n",
       "      <td>A</td>\n",
       "      <td>0.0</td>\n",
       "      <td>0.0</td>\n",
       "      <td>D</td>\n",
       "    </tr>\n",
       "  </tbody>\n",
       "</table>\n",
       "</div>"
      ],
      "text/plain": [
       "    Season      Date    HomeTeam    AwayTeam  FTHG  FTAG FTR  HTHG  HTAG HTR\n",
       "0  1995-96  2/9/1995   La Coruna    Valencia     3     0   H   2.0   0.0   H\n",
       "1  1995-96  2/9/1995    Sp Gijon    Albacete     3     0   H   3.0   0.0   H\n",
       "2  1995-96  3/9/1995  Ath Bilbao   Santander     4     0   H   2.0   0.0   H\n",
       "3  1995-96  3/9/1995  Ath Madrid    Sociedad     4     1   H   1.0   1.0   D\n",
       "4  1995-96  3/9/1995       Celta  Compostela     0     1   A   0.0   0.0   D"
      ]
     },
     "execution_count": 1,
     "metadata": {},
     "output_type": "execute_result"
    }
   ],
   "source": [
    "import pandas as pd\n",
    "import numpy as np\n",
    "import matplotlib.pyplot as plt\n",
    "import seaborn as sns\n",
    "la_liga_data = pd.read_csv('../data/LaLiga_Matches_1995-2021.csv')\n",
    "la_liga_data.head()"
   ]
  },
  {
   "cell_type": "markdown",
   "id": "04a7ad1f",
   "metadata": {},
   "source": [
    "Once we have the data loaded we try to understand the data we are working with. \n",
    "\n",
    "There are over 10K rows loaded with 10 columns in the dataframe. "
   ]
  },
  {
   "cell_type": "code",
   "execution_count": 4,
   "id": "c024fd43",
   "metadata": {},
   "outputs": [
    {
     "data": {
      "text/plain": [
       "(10044, 10)"
      ]
     },
     "execution_count": 4,
     "metadata": {},
     "output_type": "execute_result"
    }
   ],
   "source": [
    "la_liga_data.shape"
   ]
  },
  {
   "cell_type": "code",
   "execution_count": null,
   "id": "37e32b44",
   "metadata": {},
   "outputs": [],
   "source": [
    "la_liga_data.info()\n",
    "la_liga_data.info\n",
    "la_liga_data.describe()\n",
    "la_liga_data.describe"
   ]
  },
  {
   "cell_type": "code",
   "execution_count": null,
   "id": "1f3e85d5",
   "metadata": {},
   "outputs": [],
   "source": [
    "def getOneTeamPerformance(teamName, laligadataframe):\n",
    "    #df = pd.DataFrame()\n",
    "    \"\"\"This method will take the data set and the team that was passed and create the following\n",
    "    1. Points obtained from the match\n",
    "    2. Goals for and goals against\n",
    "    \n",
    "    This can then be used to construct final league tables or legue tables at certain points in time.\"\"\"\n",
    "    \n",
    "   # laligadataframe[(laligadataframe['HomeTeam']==teamName)|(laligadataframe['AwayTeam']==teamName)]\n",
    "    laligadataframe=laligadataframe[(laligadataframe['HomeTeam']==teamName)|(laligadataframe['AwayTeam']==teamName)]\n",
    "   \n",
    "    laligadataframe.loc[(laligadataframe['HomeTeam']==teamName)&(laligadataframe['FTHG']>laligadataframe['FTAG']),'Points']=3 \n",
    "    laligadataframe.loc[(laligadataframe['HomeTeam']==teamName)&(laligadataframe['FTHG']==laligadataframe['FTAG']),'Points']=1 \n",
    "    laligadataframe.loc[(laligadataframe['HomeTeam']==teamName)&(laligadataframe['FTHG']<laligadataframe['FTAG']),'Points']=0\n",
    "    laligadataframe.loc[(laligadataframe['AwayTeam']==teamName)&(laligadataframe['FTHG']<laligadataframe['FTAG']),'Points']=3\n",
    "    laligadataframe.loc[(laligadataframe['AwayTeam']==teamName)&(laligadataframe['FTHG']==laligadataframe['FTAG']),'Points']=1 \n",
    "    laligadataframe.loc[(laligadataframe['AwayTeam']==teamName)&(laligadataframe['FTHG']>laligadataframe['FTAG']),'Points']=0  \n",
    "\n",
    "    laligadataframe.loc[(laligadataframe['AwayTeam']==teamName),'Goals For']=laligadataframe['FTAG'] \n",
    "    laligadataframe.loc[(laligadataframe['HomeTeam']==teamName),'Goals For']=laligadataframe['FTHG']\n",
    "\n",
    "    laligadataframe.loc[(laligadataframe['AwayTeam']==teamName),'Goals Against']=laligadataframe['FTHG'] \n",
    "    laligadataframe.loc[(laligadataframe['HomeTeam']==teamName),'Goals Against']=laligadataframe['FTAG']\n",
    "    #laligadataframe.loc[(laligadataframe['HomeTeam']==teamName)&(laligadataframe['FTHG']==laligadataframe['FTAG']),'Points']=1  \n",
    "   \n",
    "   #filterinfDataframe = dfObj[(dfObj['Sale'] > 30) & (dfObj['Sale'] < 33) ]\n",
    "   # laligadataframe[(laligadataframe['HomeTeam']==teamName)|(laligadataframe['AwayTeam']==teamName)]\n",
    "    #laligadataframe = l\n",
    "\n",
    "    #laligadataframe['Points'] = [3 if (laligadataframe['HomeTeam']==teamName) & (laligadataframe['FTHG']>laligadataframe['FTAG']) else 0]\n",
    "\n",
    "    #laligadataframe[(laligadataframe['HomeTeam']==teamName)&(laligadataframe['FTHG'])>(laligadataframe['FTAG']),'points']=3\n",
    "    #laligadataframe.loc[laligadataframe['HomeTeam']]==teamName and laligadataframe.loc[laligadataframe['FTHG']>laligadataframe['FTAG'],'points']=3\n",
    "    #laligadataframe.loc[laligadataframe['HomeTeam']==teamName and laligadataframe['FTHG']==laligadataframe['FTAG'],'points']=1\n",
    "    #laligadataframe.loc[laligadataframe['HomeTeam']==teamName and laligadataframe['FTHG']<laligadataframe['FTAG'],'points']=0\n",
    "    #laligadataframe.loc[laligadataframe['AwayTeam']==teamName and laligadataframe['FTHG']<laligadataframe['FTAG'],'points']=3\n",
    "    #laligadataframe.loc[laligadataframe['AwayTeam']==teamName and laligadataframe['FTHG']==laligadataframe['FTAG'],'points']=1\n",
    "    #laligadataframe.loc[laligadataframe['AwayTeam']==teamName and laligadataframe['FTHG']>laligadataframe['FTAG'],'points']=0\n",
    "       \n",
    "    return laligadataframe\n",
    "    \n",
    "     \n",
    "    #df_employees[(df_employees['salary'] > 45000) & (df_employees['type_contract'] == 'permanent')]\n"
   ]
  },
  {
   "cell_type": "code",
   "execution_count": null,
   "id": "4c1c64dc",
   "metadata": {},
   "outputs": [],
   "source": [
    "real_madrid = getOneTeamPerformance('Real Madrid', la_liga_data)"
   ]
  },
  {
   "cell_type": "code",
   "execution_count": null,
   "id": "5ae486bc",
   "metadata": {},
   "outputs": [],
   "source": [
    "thisweek=real_madrid[(real_madrid['AwayTeam']=='Celta')]"
   ]
  },
  {
   "cell_type": "code",
   "execution_count": null,
   "id": "33908daf",
   "metadata": {},
   "outputs": [],
   "source": [
    "real_madrid.groupby('Season',as_index=False)['Goals For','Goals Against','Points'].sum()"
   ]
  }
 ],
 "metadata": {
  "kernelspec": {
   "display_name": "Python 3 (ipykernel)",
   "language": "python",
   "name": "python3"
  },
  "language_info": {
   "codemirror_mode": {
    "name": "ipython",
    "version": 3
   },
   "file_extension": ".py",
   "mimetype": "text/x-python",
   "name": "python",
   "nbconvert_exporter": "python",
   "pygments_lexer": "ipython3",
   "version": "3.9.0"
  }
 },
 "nbformat": 4,
 "nbformat_minor": 5
}
